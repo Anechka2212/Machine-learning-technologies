{
  "cells":[
    {
      "cell_type":"markdown",
      "source":[
        "РК №1 по \"Технологиям машинного обучения\"\n",
        "Желанкина Анна\n",
        "ИУ5-63"
      ],
      "metadata":{
        
      }
    },
    {
      "cell_type":"code",
      "source":[
        "import numpy as np\n",
        "import pandas as pd\n",
        "import matplotlib.pyplot as plt\n",
        "from datalore.plot import *\n",
        "import sklearn"
      ],
      "execution_count":null,
      "outputs":[
        
      ],
      "metadata":{
        
      }
    },
    {
      "cell_type":"code",
      "source":[
        "url = 'https:\/\/archive.ics.uci.edu\/ml\/machine-learning-databases\/meta-data\/meta.data'\n",
        "data = pd.read_csv(url, sep=',',header=None)\n",
        "data"
      ],
      "execution_count":null,
      "outputs":[
        {
          "data":{
            "text\/html":[
              
            ]
          },
          "metadata":{
            
          },
          "output_type":"display_data"
        }
      ],
      "metadata":{
        
      }
    },
    {
      "cell_type":"code",
      "source":[
        "for d in data:\n",
        "    data[d].replace('?', np.NAN, inplace=True)\n",
        "\n",
        "data"
      ],
      "execution_count":null,
      "outputs":[
        {
          "data":{
            "text\/html":[
              
            ]
          },
          "metadata":{
            
          },
          "output_type":"display_data"
        }
      ],
      "metadata":{
        
      }
    },
    {
      "cell_type":"code",
      "source":[
        "\n",
        "data[12] = data[12].astype(float)\n",
        "\n"
      ],
      "execution_count":null,
      "outputs":[
        
      ],
      "metadata":{
        
      }
    },
    {
      "cell_type":"code",
      "source":[
        "categorical_columns = [c for c in data.columns if data[c].dtype.name == 'object']\n",
        "numerical_columns = [c for c in data.columns if data[c].dtype.name != 'object']\n",
        "print(categorical_columns)\n",
        "print(numerical_columns)"
      ],
      "execution_count":null,
      "outputs":[
        {
          "name":"stdout",
          "text":[
            "[0, 8, 10, 20]\n",
            "[1, 2, 3, 4, 5, 6, 7, 9, 11, 12, 13, 14, 15, 16, 17, 18, 19, 21]\n"
          ],
          "output_type":"stream"
        }
      ],
      "metadata":{
        
      }
    },
    {
      "cell_type":"code",
      "source":[
        "#%%\n",
        "data.isnull().sum()\n"
      ],
      "execution_count":null,
      "outputs":[
        {
          "data":{
            "text\/plain":[
              "0       0\n",
              "1       0\n",
              "2       0\n",
              "3       0\n",
              "4       0\n",
              "5       0\n",
              "6       0\n",
              "7       0\n",
              "8      24\n",
              "9       0\n",
              "10    240\n",
              "11      0\n",
              "12    240\n",
              "13      0\n",
              "14      0\n",
              "15      0\n",
              "16      0\n",
              "17      0\n",
              "18      0\n",
              "19      0\n",
              "20      0\n",
              "21      0\n",
              "dtype: int64"
            ]
          },
          "metadata":{
            
          },
          "output_type":"display_data"
        }
      ],
      "metadata":{
        
      }
    },
    {
      "cell_type":"code",
      "source":[
        "num_cols = []\n",
        "for col in data.columns:\n",
        "    # Количество пустых значений \n",
        "    temp_null_count = data[data[col].isnull()].shape[0]\n",
        "    dt = str(data[col].dtype)\n",
        "    if temp_null_count>0:\n",
        "        num_cols.append(col)\n",
        "        temp_perc = round((temp_null_count \/ data.shape[0]) * 100.0, 2)\n",
        "        print('Колонка {}. Тип данных {}. Количество пустых значений {}, {}%.'.format(col, dt, temp_null_count, temp_perc))"
      ],
      "execution_count":null,
      "outputs":[
        {
          "name":"stdout",
          "text":[
            "Колонка 8. Тип данных object. Количество пустых значений 24, 4.55%.\n",
            "Колонка 10. Тип данных object. Количество пустых значений 240, 45.45%.\n",
            "Колонка 12. Тип данных float64. Количество пустых значений 240, 45.45%.\n"
          ],
          "output_type":"stream"
        }
      ],
      "metadata":{
        
      }
    },
    {
      "cell_type":"code",
      "source":[
        "data[8].describe()"
      ],
      "execution_count":null,
      "outputs":[
        {
          "data":{
            "text\/plain":[
              "count        504\n",
              "unique        21\n",
              "top       0.2178\n",
              "freq          24\n",
              "Name: 8, dtype: object"
            ]
          },
          "metadata":{
            
          },
          "output_type":"display_data"
        }
      ],
      "metadata":{
        
      }
    },
    {
      "cell_type":"code",
      "source":[
        "\n",
        "from sklearn.preprocessing import Imputer\n",
        "\n",
        "data[8] = Imputer(missing_values=np.nan, strategy='most_frequent').fit_transform(data[[8]])"
      ],
      "execution_count":null,
      "outputs":[
        
      ],
      "metadata":{
        
      }
    },
    {
      "cell_type":"code",
      "source":[
        "data"
      ],
      "execution_count":null,
      "outputs":[
        {
          "data":{
            "text\/html":[
              
            ]
          },
          "metadata":{
            
          },
          "output_type":"display_data"
        }
      ],
      "metadata":{
        
      }
    },
    {
      "cell_type":"code",
      "source":[
        "data.isnull().sum()"
      ],
      "execution_count":null,
      "outputs":[
        {
          "data":{
            "text\/plain":[
              "0       0\n",
              "1       0\n",
              "2       0\n",
              "3       0\n",
              "4       0\n",
              "5       0\n",
              "6       0\n",
              "7       0\n",
              "8       0\n",
              "9       0\n",
              "10    240\n",
              "11      0\n",
              "12    240\n",
              "13      0\n",
              "14      0\n",
              "15      0\n",
              "16      0\n",
              "17      0\n",
              "18      0\n",
              "19      0\n",
              "20      0\n",
              "21      0\n",
              "dtype: int64"
            ]
          },
          "metadata":{
            
          },
          "output_type":"display_data"
        }
      ],
      "metadata":{
        
      }
    },
    {
      "cell_type":"code",
      "source":[
        "data = data.drop((12), axis=1)"
      ],
      "execution_count":null,
      "outputs":[
        
      ],
      "metadata":{
        
      }
    },
    {
      "cell_type":"code",
      "source":[
        
      ],
      "execution_count":null,
      "outputs":[
        
      ],
      "metadata":{
        
      }
    }
  ],
  "metadata":{
    
  },
  "nbformat":4,
  "nbformat_minor":0
}